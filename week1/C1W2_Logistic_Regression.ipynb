{
 "cells": [
  {
   "cell_type": "code",
   "execution_count": 1,
   "metadata": {},
   "outputs": [],
   "source": [
    "import numpy as np\n",
    "import matplotlib.pyplot as plt\n",
    "import h5py  #file loader\n",
    "import scipy\n",
    "from PIL import Image\n",
    "from scipy import ndimage\n",
    "from lr_utils import load_dataset\n",
    "\n",
    "%matplotlib inline"
   ]
  },
  {
   "cell_type": "markdown",
   "metadata": {},
   "source": [
    "### Problem Statement\n",
    "\n",
    "- trainging set of m_train images labeled as 🐱 (y=1) and not 🐱(y=0)\n",
    "- a test set of m_test images labeled as cat or non_cat\n",
    "- each image is of shape (num_px, num_px, 3) where 3 is for the 3channels (RGB). Thus, each image is square (height= num_px) and width (num_px)"
   ]
  },
  {
   "cell_type": "code",
   "execution_count": 2,
   "metadata": {},
   "outputs": [],
   "source": [
    "# Loading data (cat/noncat)\n",
    "\n",
    "train_set_x_orig, train_set_y, test_set_x_orig, test_set_y, classes = load_dataset()"
   ]
  },
  {
   "cell_type": "code",
   "execution_count": 3,
   "metadata": {},
   "outputs": [
    {
     "name": "stdout",
     "output_type": "stream",
     "text": [
      "(209, 64, 64, 3)\n",
      "y = [0], it's a 'non-cat' picture'\n"
     ]
    },
    {
     "data": {
      "image/png": "[encoded data removed]",
      "text/plain": [
       "<Figure size 432x288 with 1 Axes>"
      ]
     },
     "metadata": {
      "needs_background": "light"
     },
     "output_type": "display_data"
    }
   ],
   "source": [
    "# Example of a picture\n",
    "index = 20\n",
    "print(train_set_x_orig.shape) # p shape[0]: depth shape[1]: columns shape[2]: row shape3: size of one pixel\n",
    "plt.imshow(train_set_x_orig[index])\n",
    "print(\"y = \" + str(train_set_y[:,index]) + \", it's a '\" + classes[np.squeeze(train_set_y[:,index])].decode(\"utf-8\")+ \"' picture'\")"
   ]
  },
  {
   "cell_type": "code",
   "execution_count": 4,
   "metadata": {},
   "outputs": [
    {
     "name": "stdout",
     "output_type": "stream",
     "text": [
      "209 50 64\n"
     ]
    }
   ],
   "source": [
    "# Find the values of m_train/m_test/num_px\n",
    "'''\n",
    "- m_train (number of training examples)\n",
    "- m_test (number of test examples)\n",
    "- num_px (= height = width of a training image)\n",
    "'''\n",
    "m_train = train_set_x_orig.shape[0]\n",
    "m_test = test_set_x_orig.shape[0]\n",
    "num_px = train_set_x_orig[0].shape[0]\n",
    "\n",
    "print(m_train, m_test, num_px)"
   ]
  },
  {
   "cell_type": "code",
   "execution_count": 5,
   "metadata": {},
   "outputs": [
    {
     "name": "stdout",
     "output_type": "stream",
     "text": [
      "(12288, 209) (12288, 50)\n"
     ]
    }
   ],
   "source": [
    "# Reshape the training and test data sets\n",
    "npix = 64*64*3\n",
    "\n",
    "train_set_x_flatten = train_set_x_orig.reshape(train_set_x_orig.shape[0],npix ).T\n",
    "test_set_x_flatten = test_set_x_orig.reshape(test_set_x_orig.shape[0],npix).T\n",
    "\n",
    "print(train_set_x_flatten.shape, test_set_x_flatten.shape)"
   ]
  },
  {
   "cell_type": "code",
   "execution_count": 6,
   "metadata": {},
   "outputs": [
    {
     "name": "stdout",
     "output_type": "stream",
     "text": [
      "[ 17 196  82   1   9  84  56  19  63  23 188   4 154  17  72 245 253 217\n",
      " 140   2   5  17 164 156 122  15  78  36  14 180  39 190 233 129 137  26\n",
      "  23  94  63 113 119   1  63 255  61   0  64  51  21  57 164 152 106  40\n",
      "  15 255  31 141  52  75  81 125  99  94   2  86 226  76 139  43  24   7\n",
      "  13 103  85 110  25  61  34  27 176 187  26 252  96  25  34  60 123  45\n",
      "  99  49  26 154 141  62 152 194 113  57 172  70  22 142  37 127 172 122\n",
      " 110  75 165 174   5 166 144 196   2  64 190 170  86 106 198  70 171   9\n",
      "  50  84 161  23  79 228 104   1   5 255 142 196 135  89   0 188 255  17\n",
      "  31 169 136  79 130 150 251   7  45 159  10 135  32  30 140  29  29 110\n",
      "  99 242 158  30 240  84  10  93 200 190 133  74  25   3 106 133  12 105\n",
      " 239   1  62  67  29 178  68  55 201 195 144 251 130  67  10   0  93 101\n",
      " 151  29 255  43 102  93 200   9 143  22   8]\n",
      "[158 104  83 ... 173 128 110]\n"
     ]
    }
   ],
   "source": [
    "print(train_set_x_flatten[0]) # select first piexels from each data samples\n",
    "print(test_set_x_flatten[:,0]) # select all piexels from first data sample"
   ]
  },
  {
   "cell_type": "code",
   "execution_count": 7,
   "metadata": {},
   "outputs": [
    {
     "name": "stdout",
     "output_type": "stream",
     "text": [
      "[0.06666667 0.76862745 0.32156863 0.00392157 0.03529412 0.32941176\n",
      " 0.21960784 0.0745098  0.24705882 0.09019608 0.7372549  0.01568627\n",
      " 0.60392157 0.06666667 0.28235294 0.96078431 0.99215686 0.85098039\n",
      " 0.54901961 0.00784314 0.01960784 0.06666667 0.64313725 0.61176471\n",
      " 0.47843137 0.05882353 0.30588235 0.14117647 0.05490196 0.70588235\n",
      " 0.15294118 0.74509804 0.91372549 0.50588235 0.5372549  0.10196078\n",
      " 0.09019608 0.36862745 0.24705882 0.44313725 0.46666667 0.00392157\n",
      " 0.24705882 1.         0.23921569 0.         0.25098039 0.2\n",
      " 0.08235294 0.22352941 0.64313725 0.59607843 0.41568627 0.15686275\n",
      " 0.05882353 1.         0.12156863 0.55294118 0.20392157 0.29411765\n",
      " 0.31764706 0.49019608 0.38823529 0.36862745 0.00784314 0.3372549\n",
      " 0.88627451 0.29803922 0.54509804 0.16862745 0.09411765 0.02745098\n",
      " 0.05098039 0.40392157 0.33333333 0.43137255 0.09803922 0.23921569\n",
      " 0.13333333 0.10588235 0.69019608 0.73333333 0.10196078 0.98823529\n",
      " 0.37647059 0.09803922 0.13333333 0.23529412 0.48235294 0.17647059\n",
      " 0.38823529 0.19215686 0.10196078 0.60392157 0.55294118 0.24313725\n",
      " 0.59607843 0.76078431 0.44313725 0.22352941 0.6745098  0.2745098\n",
      " 0.08627451 0.55686275 0.14509804 0.49803922 0.6745098  0.47843137\n",
      " 0.43137255 0.29411765 0.64705882 0.68235294 0.01960784 0.65098039\n",
      " 0.56470588 0.76862745 0.00784314 0.25098039 0.74509804 0.66666667\n",
      " 0.3372549  0.41568627 0.77647059 0.2745098  0.67058824 0.03529412\n",
      " 0.19607843 0.32941176 0.63137255 0.09019608 0.30980392 0.89411765\n",
      " 0.40784314 0.00392157 0.01960784 1.         0.55686275 0.76862745\n",
      " 0.52941176 0.34901961 0.         0.7372549  1.         0.06666667\n",
      " 0.12156863 0.6627451  0.53333333 0.30980392 0.50980392 0.58823529\n",
      " 0.98431373 0.02745098 0.17647059 0.62352941 0.03921569 0.52941176\n",
      " 0.1254902  0.11764706 0.54901961 0.11372549 0.11372549 0.43137255\n",
      " 0.38823529 0.94901961 0.61960784 0.11764706 0.94117647 0.32941176\n",
      " 0.03921569 0.36470588 0.78431373 0.74509804 0.52156863 0.29019608\n",
      " 0.09803922 0.01176471 0.41568627 0.52156863 0.04705882 0.41176471\n",
      " 0.9372549  0.00392157 0.24313725 0.2627451  0.11372549 0.69803922\n",
      " 0.26666667 0.21568627 0.78823529 0.76470588 0.56470588 0.98431373\n",
      " 0.50980392 0.2627451  0.03921569 0.         0.36470588 0.39607843\n",
      " 0.59215686 0.11372549 1.         0.16862745 0.4        0.36470588\n",
      " 0.78431373 0.03529412 0.56078431 0.08627451 0.03137255]\n",
      "[0.61960784 0.40784314 0.3254902  ... 0.67843137 0.50196078 0.43137255]\n"
     ]
    }
   ],
   "source": [
    "train_set_x = train_set_x_flatten/255\n",
    "test_set_x = test_set_x_flatten/255\n",
    "print(train_set_x[0]) # select first piexels from each data samples\n",
    "print(test_set_x[:,0]) # select all piexels from first data sample"
   ]
  },
  {
   "cell_type": "markdown",
   "metadata": {},
   "source": [
    "## 4. Building the parts of our algorithm\n",
    "\n",
    "The main steps for building a Neural Network are:\n",
    "\n",
    "1. Define the model structure (such as number of input features)\n",
    "\n",
    "2. Initialize the model's parameters\n",
    "\n",
    "3. Loop:\n",
    "    * Calculate current loss (forward propagation)\n",
    "    * Calculate current gradient (backward propagation)\n",
    "    * Updata parameters (gradient descent)\n",
    "   \n",
    "You often build 1-3 separately and integrate them into one function we call model()   \n",
    "    "
   ]
  },
  {
   "cell_type": "markdown",
   "metadata": {},
   "source": [
    "### 4.1 Helper functions\n",
    "\n",
    "Implement `sigmoid()` using your python codes from practice"
   ]
  },
  {
   "cell_type": "code",
   "execution_count": 8,
   "metadata": {},
   "outputs": [],
   "source": [
    "def sigmoid(z):\n",
    "    \n",
    "    return 1/(1+np.exp(-z))"
   ]
  },
  {
   "cell_type": "markdown",
   "metadata": {},
   "source": [
    "### 4.2 Initializing parameters\n",
    "\n",
    "Implement parameter initialization in the cell below"
   ]
  },
  {
   "cell_type": "code",
   "execution_count": 9,
   "metadata": {},
   "outputs": [],
   "source": [
    "def initialize_with_zeros(dim):\n",
    "    \"\"\"\n",
    "    This function creates a vector of zeros of shape (dim, 1) for w and initializes b to 0.\n",
    "    \n",
    "    Argument:\n",
    "    dim -- size of the w vector we want (or number of parameters in this case)\n",
    "    \n",
    "    Returns:\n",
    "    w -- initialized vector of shape (dim, 1)\n",
    "    b -- initialized scalar (corresponds to the bias)\n",
    "    \n",
    "    \"\"\"\n",
    "    w = np.zeros((dim,1))\n",
    "    b = 0\n",
    "    \n",
    "    assert(w.shape == (dim,1))\n",
    "    assert(isinstance(b,float) or isinstance(b, int))\n",
    "    return w,b\n"
   ]
  },
  {
   "cell_type": "markdown",
   "metadata": {},
   "source": [
    "### 4.3 - Forward and Backward propagation\\\n",
    "Now that your parameters are initialized, you can do the `forward` and `backward` propagation steps for learning the parameters.\n",
    "    \n",
    "   **Exercise:** Implement a function `propagate()` that computes the cost function and its gradient.\n",
    " \n",
    "   "
   ]
  },
  {
   "cell_type": "code",
   "execution_count": 10,
   "metadata": {},
   "outputs": [],
   "source": [
    "def propagate(w,b,X,Y):\n",
    "    \"\"\"\n",
    "    Implement the cost function and its gradient for the propagation explained above\n",
    "\n",
    "    Arguments:\n",
    "    w -- weights, a numpy array of size (num_px * num_px * 3, 1)\n",
    "    b -- bias, a scalar\n",
    "    X -- data of size (num_px * num_px * 3, number of examples)\n",
    "    Y -- true \"label\" vector (containing 0 if non-cat, 1 if cat) of size (1, number of examples)\n",
    "\n",
    "    Return:\n",
    "    cost -- negative log-likelihood cost for logistic regression\n",
    "    dw -- gradient of the loss with respect to w, thus same shape as w dw = dz * x\n",
    "    db -- gradient of the loss with respect to b, thus same shape as b db = dz\n",
    "    \n",
    "    Tips:\n",
    "    - Write your code step by step for the propagation. np.log(), np.dot()\n",
    "    \"\"\"\n",
    "\n",
    "    A = np.dot(w.T,X) + b\n",
    "    A = sigmoid(A)\n",
    "    m = w.shape[0]\n",
    "    cost = np.sum(np.multiply(Y, np.log(A)) + np.multiply((1-Y),np.log(1-A)))*(-1/m)\n",
    "    \n",
    "    dz = A-Y\n",
    "    \n",
    "    dw = np.dot(X,dz.T)/m\n",
    "    db = np.sum(dz)/m\n",
    "    \n",
    "    grads = { \"dw\": dw,\n",
    "             \"db\":db\n",
    "    }\n",
    "    return grads, cost\n",
    "    \n"
   ]
  },
  {
   "cell_type": "markdown",
   "metadata": {},
   "source": [
    "### Optimization\n",
    "Write optimization function : theta = theta - alpha*d(theta)"
   ]
  },
  {
   "cell_type": "code",
   "execution_count": 11,
   "metadata": {},
   "outputs": [],
   "source": [
    "# GRADED FUNCTION: optimize\n",
    "\n",
    "def optimize(w, b, X, Y, num_iterations, learning_rate, print_cost = False):\n",
    "    \"\"\"\n",
    "    This function optimizes w and b by running a gradient descent algorithm\n",
    "    \n",
    "    Arguments:\n",
    "    w -- weights, a numpy array of size (num_px * num_px * 3, 1)\n",
    "    b -- bias, a scalar\n",
    "    X -- data of shape (num_px * num_px * 3, number of examples)\n",
    "    Y -- true \"label\" vector (containing 0 if non-cat, 1 if cat), of shape (1, number of examples)\n",
    "    num_iterations -- number of iterations of the optimization loop\n",
    "    learning_rate -- learning rate of the gradient descent update rule\n",
    "    print_cost -- True to print the loss every 100 steps\n",
    "    \n",
    "    Returns:\n",
    "    params -- dictionary containing the weights w and bias b\n",
    "    grads -- dictionary containing the gradients of the weights and bias with respect to the cost function\n",
    "    costs -- list of all the costs computed during the optimization, this will be used to plot the learning curve.\n",
    "    \n",
    "    Tips:\n",
    "    You basically need to write down two steps and iterate through them:\n",
    "        1) Calculate the cost and the gradient for the current parameters. Use propagate().\n",
    "        2) Update the parameters using gradient descent rule for w and b.\n",
    "    \"\"\"\n",
    "    \n",
    "    costs = []\n",
    "    \n",
    "    for i in range(num_iterations):\n",
    "        \n",
    "        \n",
    "        # Cost and gradient calculation (≈ 1-4 lines of code)\n",
    "        ### START CODE HERE ### \n",
    "        grads, cost = propagate(w, b, X, Y)\n",
    "        ### END CODE HERE ###\n",
    "        \n",
    "        # Retrieve derivatives from grads\n",
    "        dw = grads[\"dw\"]\n",
    "        db = grads[\"db\"]\n",
    "        \n",
    "        # update rule (≈ 2 lines of code)\n",
    "        ### START CODE HERE ###\n",
    "        w = w - learning_rate * dw\n",
    "        b = b - learning_rate * db\n",
    "        ### END CODE HERE ###\n",
    "        \n",
    "        # Record the costs\n",
    "        if i % 100 == 0:\n",
    "            costs.append(cost)\n",
    "        \n",
    "        # Print the cost every 100 training examples\n",
    "        if print_cost and i % 1000 == 0:\n",
    "            print (\"Cost after iteration %i: %f\" %(i, cost))\n",
    "    \n",
    "    params = {\"w\": w,\n",
    "              \"b\": b}\n",
    "    \n",
    "    grads = {\"dw\": dw,\n",
    "             \"db\": db}\n",
    "    \n",
    "    return params, grads, costs"
   ]
  },
  {
   "cell_type": "code",
   "execution_count": 12,
   "metadata": {},
   "outputs": [],
   "source": [
    "# GRADED FUNCTION: predict\n",
    "\n",
    "def predict(w, b, X):\n",
    "    '''\n",
    "    Predict whether the label is 0 or 1 using learned logistic regression parameters (w, b)\n",
    "    \n",
    "    Arguments:\n",
    "    w -- weights, a numpy array of size (num_px * num_px * 3, 1)\n",
    "    b -- bias, a scalar\n",
    "    X -- data of size (num_px * num_px * 3, number of examples)\n",
    "    \n",
    "    Returns:\n",
    "    Y_prediction -- a numpy array (vector) containing all predictions (0/1) for the examples in X\n",
    "    '''\n",
    "    \n",
    "    m = X.shape[1]\n",
    "    Y_prediction = np.zeros((1,m))\n",
    "    w = w.reshape(X.shape[0], 1)\n",
    "    \n",
    "    # Compute vector \"A\" predicting the probabilities of a cat being present in the picture\n",
    "    ### START CODE HERE ### (≈ 1 line of code)\n",
    "    Y_prediction = sigmoid(np.dot(w.T, X) + b)\n",
    "    ### END CODE HERE ###\n",
    "    \n",
    "    for i in range(Y_prediction.shape[1]):\n",
    "        \n",
    "        # Convert probabilities A[0,i] to actual predictions p[0,i]\n",
    "        ### START CODE HERE ### (≈ 4 lines of code)\n",
    "        if Y_prediction[0,i] >= 0.5:\n",
    "            Y_prediction[0,i] = 1\n",
    "        else:\n",
    "            Y_prediction[0,i] = 0\n",
    "        ### END CODE HERE ###\n",
    "    \n",
    "    assert(Y_prediction.shape == (1, m))\n",
    "    \n",
    "    return Y_prediction"
   ]
  },
  {
   "cell_type": "code",
   "execution_count": 15,
   "metadata": {},
   "outputs": [],
   "source": [
    "# GRADED FUNCTION: model\n",
    "\n",
    "def model(X_train, Y_train, X_test, Y_test, num_iterations = 2000, learning_rate = 0.005, print_cost = False):\n",
    "    \"\"\"\n",
    "    Builds the logistic regression model by calling the function you've implemented previously\n",
    "    \n",
    "    Arguments:\n",
    "    X_train -- training set represented by a numpy array of shape (num_px * num_px * 3, m_train)\n",
    "    Y_train -- training labels represented by a numpy array (vector) of shape (1, m_train)\n",
    "    X_test -- test set represented by a numpy array of shape (num_px * num_px * 3, m_test)\n",
    "    Y_test -- test labels represented by a numpy array (vector) of shape (1, m_test)\n",
    "    num_iterations -- hyperparameter representing the number of iterations to optimize the parameters\n",
    "    learning_rate -- hyperparameter representing the learning rate used in the update rule of optimize()\n",
    "    print_cost -- Set to true to print the cost every 100 iterations\n",
    "    \n",
    "    Returns:\n",
    "    d -- dictionary containing information about the model.\n",
    "    \"\"\"\n",
    "    \n",
    "    w,b = initialize_with_zeros(X_train.shape[0])\n",
    "    try:\n",
    "        params, grads, costs = optimize(w,b,X_train,Y_train, num_iterations, learning_rate, print_cost)\n",
    "    except:\n",
    "        print(\"optimization completed\")\n",
    "    w = params['w']\n",
    "    b = params['b']\n",
    "    \n",
    "    # Predict test/train set examples (≈ 2 lines of code)\n",
    "    Y_prediction_test = predict(w, b, X_test)\n",
    "    Y_prediction_train = predict(w, b, X_train)\n",
    "    ### END CODE HERE ###\n",
    "\n",
    "    # Print train/test Errors\n",
    "    print(\"train accuracy: {} %\".format(100 - np.mean(np.abs(Y_prediction_train - Y_train)) * 100))\n",
    "    print(\"test accuracy: {} %\".format(100 - np.mean(np.abs(Y_prediction_test - Y_test)) * 100))\n",
    "\n",
    "    \n",
    "    d = {\"costs\": costs,\n",
    "         \"Y_prediction_test\": Y_prediction_test, \n",
    "         \"Y_prediction_train\" : Y_prediction_train, \n",
    "         \"w\" : w, \n",
    "         \"b\" : b,\n",
    "         \"learning_rate\" : learning_rate,\n",
    "         \"num_iterations\": num_iterations}\n",
    "    \n",
    "    return d\n",
    "   \n",
    "    "
   ]
  },
  {
   "cell_type": "code",
   "execution_count": 17,
   "metadata": {},
   "outputs": [
    {
     "name": "stdout",
     "output_type": "stream",
     "text": [
      "Cost after iteration 0: 0.011789\n",
      "Cost after iteration 1000: 0.010171\n",
      "Cost after iteration 2000: 0.009614\n",
      "Cost after iteration 3000: 0.009190\n",
      "Cost after iteration 4000: 0.008839\n",
      "Cost after iteration 5000: 0.008536\n",
      "Cost after iteration 6000: 0.008268\n",
      "Cost after iteration 7000: 0.008026\n",
      "Cost after iteration 8000: 0.007805\n",
      "Cost after iteration 9000: 0.007602\n",
      "Cost after iteration 10000: 0.007414\n",
      "Cost after iteration 11000: 0.007239\n",
      "Cost after iteration 12000: 0.007074\n",
      "Cost after iteration 13000: 0.006919\n",
      "Cost after iteration 14000: 0.006773\n",
      "Cost after iteration 15000: 0.006635\n",
      "Cost after iteration 16000: 0.006503\n",
      "Cost after iteration 17000: 0.006378\n",
      "Cost after iteration 18000: 0.006259\n",
      "Cost after iteration 19000: 0.006145\n",
      "Cost after iteration 20000: 0.006036\n",
      "Cost after iteration 21000: 0.005932\n",
      "Cost after iteration 22000: 0.005831\n",
      "Cost after iteration 23000: 0.005735\n",
      "Cost after iteration 24000: 0.005642\n",
      "Cost after iteration 25000: 0.005553\n",
      "Cost after iteration 26000: 0.005467\n",
      "Cost after iteration 27000: 0.005384\n",
      "Cost after iteration 28000: 0.005303\n",
      "Cost after iteration 29000: 0.005226\n",
      "Cost after iteration 30000: 0.005151\n",
      "Cost after iteration 31000: 0.005078\n",
      "Cost after iteration 32000: 0.005007\n",
      "Cost after iteration 33000: 0.004939\n",
      "Cost after iteration 34000: 0.004872\n",
      "Cost after iteration 35000: 0.004808\n",
      "Cost after iteration 36000: 0.004745\n",
      "Cost after iteration 37000: 0.004684\n",
      "Cost after iteration 38000: 0.004625\n",
      "Cost after iteration 39000: 0.004567\n",
      "Cost after iteration 40000: 0.004511\n",
      "Cost after iteration 41000: 0.004456\n",
      "Cost after iteration 42000: 0.004403\n",
      "Cost after iteration 43000: 0.004351\n",
      "Cost after iteration 44000: 0.004300\n",
      "Cost after iteration 45000: 0.004250\n",
      "Cost after iteration 46000: 0.004202\n",
      "Cost after iteration 47000: 0.004154\n",
      "Cost after iteration 48000: 0.004108\n",
      "Cost after iteration 49000: 0.004063\n",
      "Cost after iteration 50000: 0.004019\n",
      "Cost after iteration 51000: 0.003976\n",
      "Cost after iteration 52000: 0.003934\n",
      "Cost after iteration 53000: 0.003892\n",
      "Cost after iteration 54000: 0.003852\n",
      "Cost after iteration 55000: 0.003812\n",
      "Cost after iteration 56000: 0.003774\n",
      "Cost after iteration 57000: 0.003736\n",
      "Cost after iteration 58000: 0.003698\n",
      "Cost after iteration 59000: 0.003662\n",
      "Cost after iteration 60000: 0.003626\n",
      "Cost after iteration 61000: 0.003591\n",
      "Cost after iteration 62000: 0.003557\n",
      "Cost after iteration 63000: 0.003523\n",
      "Cost after iteration 64000: 0.003490\n",
      "Cost after iteration 65000: 0.003457\n",
      "Cost after iteration 66000: 0.003425\n",
      "Cost after iteration 67000: 0.003394\n",
      "Cost after iteration 68000: 0.003363\n",
      "Cost after iteration 69000: 0.003333\n",
      "Cost after iteration 70000: 0.003303\n",
      "Cost after iteration 71000: 0.003274\n",
      "Cost after iteration 72000: 0.003245\n",
      "Cost after iteration 73000: 0.003217\n",
      "Cost after iteration 74000: 0.003189\n",
      "Cost after iteration 75000: 0.003162\n",
      "Cost after iteration 76000: 0.003135\n",
      "Cost after iteration 77000: 0.003109\n",
      "Cost after iteration 78000: 0.003083\n",
      "Cost after iteration 79000: 0.003058\n",
      "Cost after iteration 80000: 0.003032\n",
      "Cost after iteration 81000: 0.003008\n",
      "Cost after iteration 82000: 0.002983\n",
      "Cost after iteration 83000: 0.002960\n",
      "Cost after iteration 84000: 0.002936\n",
      "Cost after iteration 85000: 0.002913\n",
      "Cost after iteration 86000: 0.002890\n",
      "Cost after iteration 87000: 0.002867\n",
      "Cost after iteration 88000: 0.002845\n",
      "Cost after iteration 89000: 0.002823\n",
      "Cost after iteration 90000: 0.002802\n",
      "Cost after iteration 91000: 0.002781\n",
      "Cost after iteration 92000: 0.002760\n",
      "Cost after iteration 93000: 0.002739\n",
      "Cost after iteration 94000: 0.002719\n",
      "Cost after iteration 95000: 0.002699\n",
      "Cost after iteration 96000: 0.002679\n",
      "Cost after iteration 97000: 0.002660\n",
      "Cost after iteration 98000: 0.002641\n",
      "Cost after iteration 99000: 0.002622\n",
      "train accuracy: 98.56459330143541 %\n",
      "test accuracy: 70.0 %\n"
     ]
    }
   ],
   "source": [
    "d = model(train_set_x, train_set_y, test_set_x, test_set_y, num_iterations = 100000, learning_rate = 0.005, print_cost = True)\n"
   ]
  },
  {
   "cell_type": "code",
   "execution_count": 19,
   "metadata": {},
   "outputs": [
    {
     "name": "stdout",
     "output_type": "stream",
     "text": [
      "0.0\n",
      "y = 1, you predicted that it is a \"non-cat\" picture.\n"
     ]
    },
    {
     "data": {
      "image/png": "[encoded data removed]",
      "text/plain": [
       "<Figure size 432x288 with 1 Axes>"
      ]
     },
     "metadata": {
      "needs_background": "light"
     },
     "output_type": "display_data"
    }
   ],
   "source": [
    "# Example of a picture that was wrongly classified.\n",
    "index = 6\n",
    "plt.imshow(test_set_x[:,index].reshape((num_px, num_px, 3)))\n",
    "print(d[\"Y_prediction_test\"][0,index])\n",
    "print (\"y = \" + str(test_set_y[0,index]) + \", you predicted that it is a \\\"\" + classes[int(d[\"Y_prediction_test\"][0,index])].decode(\"utf-8\") +  \"\\\" picture.\")\n",
    "\n",
    "\n"
   ]
  },
  {
   "cell_type": "code",
   "execution_count": 20,
   "metadata": {},
   "outputs": [
    {
     "data": {
      "image/png": "[encoded data removed]",
      "text/plain": [
       "<Figure size 432x288 with 1 Axes>"
      ]
     },
     "metadata": {
      "needs_background": "light"
     },
     "output_type": "display_data"
    }
   ],
   "source": [
    "# Plot learning curve (with costs)\n",
    "costs = np.squeeze(d['costs'])\n",
    "plt.plot(costs)\n",
    "plt.ylabel('cost')\n",
    "plt.xlabel('iterations (per hundreds)')\n",
    "plt.title(\"Learning rate =\" + str(d[\"learning_rate\"]))\n",
    "plt.show()"
   ]
  },
  {
   "cell_type": "code",
   "execution_count": 21,
   "metadata": {},
   "outputs": [
    {
     "name": "stdout",
     "output_type": "stream",
     "text": [
      "learning rate is: 0.01\n",
      "train accuracy: 72.2488038277512 %\n",
      "test accuracy: 42.00000000000001 %\n",
      "\n",
      "-------------------------------------------------------\n",
      "\n",
      "learning rate is: 0.001\n",
      "train accuracy: 65.55023923444976 %\n",
      "test accuracy: 34.0 %\n",
      "\n",
      "-------------------------------------------------------\n",
      "\n",
      "learning rate is: 0.0001\n",
      "train accuracy: 65.55023923444976 %\n",
      "test accuracy: 34.0 %\n",
      "\n",
      "-------------------------------------------------------\n",
      "\n"
     ]
    },
    {
     "data": {
      "image/png": "[encoded data removed]",
      "text/plain": [
       "<Figure size 432x288 with 1 Axes>"
      ]
     },
     "metadata": {
      "needs_background": "light"
     },
     "output_type": "display_data"
    }
   ],
   "source": [
    "learning_rates = [0.01, 0.001, 0.0001]\n",
    "models = {}\n",
    "for i in learning_rates:\n",
    "    print (\"learning rate is: \" + str(i))\n",
    "    models[str(i)] = model(train_set_x, train_set_y, test_set_x, test_set_y, num_iterations = 1500, learning_rate = i, print_cost = False)\n",
    "    print ('\\n' + \"-------------------------------------------------------\" + '\\n')\n",
    "\n",
    "for i in learning_rates:\n",
    "    plt.plot(np.squeeze(models[str(i)][\"costs\"]), label= str(models[str(i)][\"learning_rate\"]))\n",
    "\n",
    "plt.ylabel('cost')\n",
    "plt.xlabel('iterations')\n",
    "\n",
    "legend = plt.legend(loc='upper center', shadow=True)\n",
    "frame = legend.get_frame()\n",
    "frame.set_facecolor('0.90')\n",
    "plt.show()"
   ]
  },
  {
   "cell_type": "code",
   "execution_count": null,
   "metadata": {},
   "outputs": [],
   "source": [
    "## START CODE HERE ## (PUT YOUR IMAGE NAME) \n",
    "my_image = \"lulu.jpg\"   # change this to the name of your image file \n",
    "## END CODE HERE ##\n",
    "\n",
    "# We preprocess the image to fit your algorithm.\n",
    "fname = \"images/\" + my_image\n",
    "image = np.array(plt.imread(fname))\n",
    "my_image = scipy.misc.imresize(image, size=(num_px,num_px)).reshape((1, num_px*num_px*3)).T\n",
    "my_predicted_image = predict(d[\"w\"], d[\"b\"], my_image)\n",
    "\n",
    "plt.imshow(image)\n",
    "print(my_predicted_image[0,0])\n",
    "print(\"y = \" + str(int(my_predicted_image[0,0])) + \", your algorithm predicts a \\\"\" + classes[int(my_predicted_image[0,0])].decode(\"utf-8\")  +  \"\\\" picture.\")\n"
   ]
  },
  {
   "cell_type": "code",
   "execution_count": null,
   "metadata": {},
   "outputs": [],
   "source": []
  },
  {
   "cell_type": "code",
   "execution_count": null,
   "metadata": {},
   "outputs": [],
   "source": []
  }
 ],
 "metadata": {
  "kernelspec": {
   "display_name": "Python 3",
   "language": "python",
   "name": "python3"
  },
  "language_info": {
   "codemirror_mode": {
    "name": "ipython",
    "version": 3
   },
   "file_extension": ".py",
   "mimetype": "text/x-python",
   "name": "python",
   "nbconvert_exporter": "python",
   "pygments_lexer": "ipython3",
   "version": "3.7.3"
  }
 },
 "nbformat": 4,
 "nbformat_minor": 2
}
